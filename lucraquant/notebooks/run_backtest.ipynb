{
  "cells": [
    {
      "cell_type": "markdown",
      "metadata": {},
      "source": [
        "# LucraQuant Quick Start\n",
        "Run this notebook to demo the SMA crossover strategy."
      ]
    },
    {
      "cell_type": "code",
      "metadata": {},
      "execution_count": null,
      "outputs": [],
      "source": [
        "import sys, os\n",
        "sys.path.append('..')  # allow notebook to import lucraquant\n",
        "from lucraquant.engine.backtest_engine import BacktestEngine\n",
        "from lucraquant.strategies.my_strategy import SMACrossoverStrategy\n",
        "from lucraquant.engine.data_handler import DataHandler\n",
        "from lucraquant.utils.visualizations import plot_equity_curve\n",
        "\n",
        "data = DataHandler.load_csv('../data/sample.csv')\n",
        "engine = BacktestEngine(data=data, strategy_cls=SMACrossoverStrategy, initial_capital=10000)\n",
        "results = engine.run()\n",
        "print(results['metrics'])\n",
        "plot_equity_curve(results['portfolio_values'])"
      ]
    }
  ],
  "metadata": {
    "kernelspec": {
      "display_name": "Python 3",
      "language": "python",
      "name": "python3"
    },
    "language_info": {
      "name": "python",
      "version": "3.x"
    }
  },
  "nbformat": 4,
  "nbformat_minor": 5
}
